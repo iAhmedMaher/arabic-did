{
 "cells": [
  {
   "cell_type": "code",
   "execution_count": null,
   "metadata": {},
   "outputs": [],
   "source": [
    "import os\n",
    "os.chdir(os.path.dirname(os.path.realpath(__file__)))\n",
    "\n",
    "import torch\n",
    "from preprocessing import TextPreprocessor\n",
    "import config as cfg\n",
    "import helpers\n",
    "import models\n",
    "import os\n",
    "import data\n",
    "from torch.utils.data import DataLoader\n",
    "from eval import Evaluation\n",
    "from train import get_comet_api_key  # TODO refactor\n",
    "import uuid\n",
    "from lime import lime_text\n",
    "\n",
    "config = cfg.default_config\n",
    "\n",
    "train_df = helpers.get_combined_dataframes(helpers.get_datasets_paths(config, 'train'))\n",
    "\n",
    "text_proc = TextPreprocessor(config, train_df)\n",
    "\n",
    "model = models.get_model(text_proc.n_tokens, config)\n",
    "model.to(config['device'])\n",
    "checkpoint = torch.load(os.path.join('checkpoints', config['load_checkpoint']), map_location=torch.device(config['device']))\n",
    "model.load_state_dict(checkpoint['model_state_dict'])\n",
    "\n",
    "model.eval()"
   ]
  },
  {
   "cell_type": "code",
   "execution_count": null,
   "metadata": {},
   "outputs": [],
   "source": [
    "def batch_predict(texts):\n",
    "        tokens_batch, _ = text_proc.get_model_input(texts)\n",
    "        predicated_labels, probs = model(tokens_batch.to(config['device']), return_probs=True)\n",
    "        return probs.detach().cpu().numpy()"
   ]
  },
  {
   "cell_type": "code",
   "execution_count": null,
   "metadata": {},
   "outputs": [],
   "source": [
    "explainer = lime_text.LimeTextExplainer(class_names=['PAL', 'LEB', 'JOR', 'SYR']"
   ]
  },
  {
   "cell_type": "code",
   "execution_count": null,
   "metadata": {},
   "outputs": [],
   "source": [
    "test_inputs = 'وهى حماتك بتكشر من الطريق الا يكون فى اشى'\n",
    "explanation = explainer.explain_instance(test_inputs, batch_predict, labels=[0])\n",
    "explanation.show_in_notebook(text=True)"
   ]
  }
 ],
 "metadata": {
  "kernelspec": {
   "display_name": "Python 3",
   "language": "python",
   "name": "python3"
  },
  "language_info": {
   "codemirror_mode": {
    "name": "ipython",
    "version": 3
   },
   "file_extension": ".py",
   "mimetype": "text/x-python",
   "name": "python",
   "nbconvert_exporter": "python",
   "pygments_lexer": "ipython3",
   "version": "3.7.1"
  }
 },
 "nbformat": 4,
 "nbformat_minor": 2
}
